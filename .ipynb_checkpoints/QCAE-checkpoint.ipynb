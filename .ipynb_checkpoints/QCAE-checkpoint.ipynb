{
 "cells": [
  {
   "cell_type": "code",
   "execution_count": 1,
   "id": "21ba08cc",
   "metadata": {
    "pycharm": {
     "name": "#%%\n"
    }
   },
   "outputs": [
    {
     "name": "stderr",
     "output_type": "stream",
     "text": [
      "WARNING: pip is being invoked by an old script wrapper. This will fail in a future version of pip.\n",
      "Please see https://github.com/pypa/pip/issues/5599 for advice on fixing the underlying issue.\n",
      "To avoid this problem you can invoke Python with '-m pip' instead of running pip directly.\n",
      "WARNING: pip is being invoked by an old script wrapper. This will fail in a future version of pip.\n",
      "Please see https://github.com/pypa/pip/issues/5599 for advice on fixing the underlying issue.\n",
      "To avoid this problem you can invoke Python with '-m pip' instead of running pip directly.\n"
     ]
    },
    {
     "data": {
      "text/html": [
       "<pre style=\"white-space:pre;overflow-x:auto;line-height:normal;font-family:Menlo,'DejaVu Sans Mono',consolas,'Courier New',monospace\">Name: PennyLane\n",
       "</pre>\n"
      ],
      "text/plain": [
       "Name: PennyLane\n"
      ]
     },
     "metadata": {},
     "output_type": "display_data"
    },
    {
     "data": {
      "text/html": [
       "<pre style=\"white-space:pre;overflow-x:auto;line-height:normal;font-family:Menlo,'DejaVu Sans Mono',consolas,'Courier New',monospace\">Name: PennyLane\n",
       "</pre>\n"
      ],
      "text/plain": [
       "Name: PennyLane\n"
      ]
     },
     "metadata": {},
     "output_type": "display_data"
    },
    {
     "data": {
      "text/html": [
       "<pre style=\"white-space:pre;overflow-x:auto;line-height:normal;font-family:Menlo,'DejaVu Sans Mono',consolas,'Courier New',monospace\">Version: 0.21.0\n",
       "</pre>\n"
      ],
      "text/plain": [
       "Version: 0.21.0\n"
      ]
     },
     "metadata": {},
     "output_type": "display_data"
    },
    {
     "data": {
      "text/html": [
       "<pre style=\"white-space:pre;overflow-x:auto;line-height:normal;font-family:Menlo,'DejaVu Sans Mono',consolas,'Courier New',monospace\">Summary: PennyLane is a Python quantum machine learning library by Xanadu Inc.\n",
       "</pre>\n"
      ],
      "text/plain": [
       "Summary: PennyLane is a Python quantum machine learning library by Xanadu Inc.\n"
      ]
     },
     "metadata": {},
     "output_type": "display_data"
    },
    {
     "data": {
      "text/html": [
       "<pre style=\"white-space:pre;overflow-x:auto;line-height:normal;font-family:Menlo,'DejaVu Sans Mono',consolas,'Courier New',monospace\">Version: 0.21.0\n",
       "</pre>\n"
      ],
      "text/plain": [
       "Version: 0.21.0\n"
      ]
     },
     "metadata": {},
     "output_type": "display_data"
    },
    {
     "data": {
      "text/html": [
       "<pre style=\"white-space:pre;overflow-x:auto;line-height:normal;font-family:Menlo,'DejaVu Sans Mono',consolas,'Courier New',monospace\">Summary: PennyLane is a Python quantum machine learning library by Xanadu Inc.\n",
       "</pre>\n"
      ],
      "text/plain": [
       "Summary: PennyLane is a Python quantum machine learning library by Xanadu Inc.\n"
      ]
     },
     "metadata": {},
     "output_type": "display_data"
    },
    {
     "data": {
      "text/html": [
       "<pre style=\"white-space:pre;overflow-x:auto;line-height:normal;font-family:Menlo,'DejaVu Sans Mono',consolas,'Courier New',monospace\">Home-page: https://github.com/XanaduAI/pennylane\n",
       "</pre>\n"
      ],
      "text/plain": [
       "Home-page: https://github.com/XanaduAI/pennylane\n"
      ]
     },
     "metadata": {},
     "output_type": "display_data"
    },
    {
     "data": {
      "text/html": [
       "<pre style=\"white-space:pre;overflow-x:auto;line-height:normal;font-family:Menlo,'DejaVu Sans Mono',consolas,'Courier New',monospace\">Author: \n",
       "</pre>\n"
      ],
      "text/plain": [
       "Author: \n"
      ]
     },
     "metadata": {},
     "output_type": "display_data"
    },
    {
     "data": {
      "text/html": [
       "<pre style=\"white-space:pre;overflow-x:auto;line-height:normal;font-family:Menlo,'DejaVu Sans Mono',consolas,'Courier New',monospace\">Author-email: \n",
       "</pre>\n"
      ],
      "text/plain": [
       "Author-email: \n"
      ]
     },
     "metadata": {},
     "output_type": "display_data"
    },
    {
     "data": {
      "text/html": [
       "<pre style=\"white-space:pre;overflow-x:auto;line-height:normal;font-family:Menlo,'DejaVu Sans Mono',consolas,'Courier New',monospace\">License: Apache License 2.0\n",
       "</pre>\n"
      ],
      "text/plain": [
       "License: Apache License 2.0\n"
      ]
     },
     "metadata": {},
     "output_type": "display_data"
    },
    {
     "data": {
      "text/html": [
       "<pre style=\"white-space:pre;overflow-x:auto;line-height:normal;font-family:Menlo,'DejaVu Sans Mono',consolas,'Courier New',monospace\">Home-page: https://github.com/XanaduAI/pennylane\n",
       "</pre>\n"
      ],
      "text/plain": [
       "Home-page: https://github.com/XanaduAI/pennylane\n"
      ]
     },
     "metadata": {},
     "output_type": "display_data"
    },
    {
     "data": {
      "text/html": [
       "<pre style=\"white-space:pre;overflow-x:auto;line-height:normal;font-family:Menlo,'DejaVu Sans Mono',consolas,'Courier New',monospace\">Author: \n",
       "</pre>\n"
      ],
      "text/plain": [
       "Author: \n"
      ]
     },
     "metadata": {},
     "output_type": "display_data"
    },
    {
     "data": {
      "text/html": [
       "<pre style=\"white-space:pre;overflow-x:auto;line-height:normal;font-family:Menlo,'DejaVu Sans Mono',consolas,'Courier New',monospace\">Author-email: \n",
       "</pre>\n"
      ],
      "text/plain": [
       "Author-email: \n"
      ]
     },
     "metadata": {},
     "output_type": "display_data"
    },
    {
     "data": {
      "text/html": [
       "<pre style=\"white-space:pre;overflow-x:auto;line-height:normal;font-family:Menlo,'DejaVu Sans Mono',consolas,'Courier New',monospace\">License: Apache License 2.0\n",
       "</pre>\n"
      ],
      "text/plain": [
       "License: Apache License 2.0\n"
      ]
     },
     "metadata": {},
     "output_type": "display_data"
    },
    {
     "data": {
      "text/html": [
       "<pre style=\"white-space:pre;overflow-x:auto;line-height:normal;font-family:Menlo,'DejaVu Sans Mono',consolas,'Courier New',monospace\">Location: c:\\users\\bartu\\anaconda3\\envs\\qml\\lib\\site-packages\n",
       "</pre>\n"
      ],
      "text/plain": [
       "Location: c:\\users\\bartu\\anaconda3\\envs\\qml\\lib\\site-packages\n"
      ]
     },
     "metadata": {},
     "output_type": "display_data"
    },
    {
     "data": {
      "text/html": [
       "<pre style=\"white-space:pre;overflow-x:auto;line-height:normal;font-family:Menlo,'DejaVu Sans Mono',consolas,'Courier New',monospace\">Requires: appdirs, autograd, autoray, cachetools, networkx, numpy, pennylane-lightning, retworkx, scipy, semantic-version, toml\n",
       "</pre>\n"
      ],
      "text/plain": [
       "Requires: appdirs, autograd, autoray, cachetools, networkx, numpy, pennylane-lightning, retworkx, scipy, semantic-version, toml\n"
      ]
     },
     "metadata": {},
     "output_type": "display_data"
    },
    {
     "data": {
      "text/html": [
       "<pre style=\"white-space:pre;overflow-x:auto;line-height:normal;font-family:Menlo,'DejaVu Sans Mono',consolas,'Courier New',monospace\">Required-by: PennyLane-Lightning, PennyLane-SF\n",
       "</pre>\n"
      ],
      "text/plain": [
       "Required-by: PennyLane-Lightning, PennyLane-SF\n"
      ]
     },
     "metadata": {},
     "output_type": "display_data"
    },
    {
     "data": {
      "text/html": [
       "<pre style=\"white-space:pre;overflow-x:auto;line-height:normal;font-family:Menlo,'DejaVu Sans Mono',consolas,'Courier New',monospace\">Location: c:\\users\\bartu\\anaconda3\\envs\\qml\\lib\\site-packages\n",
       "</pre>\n"
      ],
      "text/plain": [
       "Location: c:\\users\\bartu\\anaconda3\\envs\\qml\\lib\\site-packages\n"
      ]
     },
     "metadata": {},
     "output_type": "display_data"
    },
    {
     "data": {
      "text/html": [
       "<pre style=\"white-space:pre;overflow-x:auto;line-height:normal;font-family:Menlo,'DejaVu Sans Mono',consolas,'Courier New',monospace\">Requires: appdirs, autograd, autoray, cachetools, networkx, numpy, pennylane-lightning, retworkx, scipy, semantic-version, toml\n",
       "</pre>\n"
      ],
      "text/plain": [
       "Requires: appdirs, autograd, autoray, cachetools, networkx, numpy, pennylane-lightning, retworkx, scipy, semantic-version, toml\n"
      ]
     },
     "metadata": {},
     "output_type": "display_data"
    },
    {
     "data": {
      "text/html": [
       "<pre style=\"white-space:pre;overflow-x:auto;line-height:normal;font-family:Menlo,'DejaVu Sans Mono',consolas,'Courier New',monospace\">Required-by: PennyLane-Lightning, PennyLane-SF\n",
       "</pre>\n"
      ],
      "text/plain": [
       "Required-by: PennyLane-Lightning, PennyLane-SF\n"
      ]
     },
     "metadata": {},
     "output_type": "display_data"
    },
    {
     "name": "stdout",
     "output_type": "stream",
     "text": [
      "Platform info:           Windows-10-10.0.22000-SP0\n",
      "Python version:          3.9.7\n",
      "Numpy version:           1.22.2\n",
      "Scipy version:           1.8.0\n",
      "Installed devices:\n",
      "- default.gaussian (PennyLane-0.21.0)\n",
      "- default.mixed (PennyLane-0.21.0)\n",
      "- default.qubit (PennyLane-0.21.0)\n",
      "- default.qubit.autograd (PennyLane-0.21.0)\n",
      "- default.qubit.jax (PennyLane-0.21.0)\n",
      "- default.qubit.tf (PennyLane-0.21.0)\n",
      "- default.qubit.torch (PennyLane-0.21.0)\n",
      "- strawberryfields.fock (PennyLane-SF-0.20.0)\n",
      "- strawberryfields.gaussian (PennyLane-SF-0.20.0)\n",
      "- strawberryfields.gbs (PennyLane-SF-0.20.0)\n",
      "- strawberryfields.remote (PennyLane-SF-0.20.0)\n",
      "- strawberryfields.tf (PennyLane-SF-0.20.0)\n",
      "- lightning.qubit (PennyLane-Lightning-0.21.0)\n",
      "Platform info:           Windows-10-10.0.22000-SP0\n",
      "Python version:          3.9.7\n",
      "Numpy version:           1.22.2\n",
      "Scipy version:           1.8.0\n",
      "Installed devices:\n",
      "- default.gaussian (PennyLane-0.21.0)\n",
      "- default.mixed (PennyLane-0.21.0)\n",
      "- default.qubit (PennyLane-0.21.0)\n",
      "- default.qubit.autograd (PennyLane-0.21.0)\n",
      "- default.qubit.jax (PennyLane-0.21.0)\n",
      "- default.qubit.tf (PennyLane-0.21.0)\n",
      "- default.qubit.torch (PennyLane-0.21.0)\n",
      "- strawberryfields.fock (PennyLane-SF-0.20.0)\n",
      "- strawberryfields.gaussian (PennyLane-SF-0.20.0)\n",
      "- strawberryfields.gbs (PennyLane-SF-0.20.0)\n",
      "- strawberryfields.remote (PennyLane-SF-0.20.0)\n",
      "- strawberryfields.tf (PennyLane-SF-0.20.0)\n",
      "- lightning.qubit (PennyLane-Lightning-0.21.0)\n"
     ]
    }
   ],
   "source": [
    "from tensorflow.keras.models import Model\n",
    "import tensorflow as tf\n",
    "from tensorflow.keras import layers, losses\n",
    "\n",
    "\n",
    "from keras.models import Sequential\n",
    "from keras.layers import Dense\n",
    "from keras.utils.vis_utils import plot_model\n",
    "from tensorflow.keras.optimizers import Adam\n",
    "from keras.backend import set_floatx\n",
    "\n",
    "import pennylane as qml\n",
    "from pennylane.optimize import AdamOptimizer\n",
    "qml.about()\n",
    "\n",
    "from pennylane import numpy as np\n",
    "import matplotlib.pyplot as plt"
   ]
  },
  {
   "cell_type": "code",
   "execution_count": 2,
   "id": "fbfe1d24",
   "metadata": {
    "pycharm": {
     "name": "#%%\n"
    }
   },
   "outputs": [
    {
     "name": "stdout",
     "output_type": "stream",
     "text": [
      "Size of training data: 3\n",
      "Size of test data: 3\n",
      "Size of training data: 3\n",
      "Size of test data: 3\n"
     ]
    }
   ],
   "source": [
    "\"\"\"\n",
    "Generate data for the hybrid autoencoder to use.\n",
    "\"\"\"\n",
    "# To avoid the InvalidArgumentError: cannot compute MatMul as input #0(zero-based) was expected to be a float tensor\n",
    "set_floatx('float64')\n",
    "\n",
    "# Number of training data.\n",
    "num_train = 1\n",
    "# Number of test data.\n",
    "num_test = 1\n",
    "# Size of the autoencoder input.\n",
    "len_vector = 3\n",
    "\n",
    "# Seed definition for consistent results.\n",
    "np.random.seed(1)\n",
    "# Training data generation.\n",
    "x_train = np.array([[0+0j, 1+0j, 0+0j]])\n",
    "# Test data generation.\n",
    "x_test = np.array([[0+0j, 1+0j, 0+0j]])\n",
    "\n",
    "# Print the size of generated data.\n",
    "print(\"Size of training data: \" + str(np.size(x_train)))\n",
    "print(\"Size of test data: \" + str(np.size(x_test)))"
   ]
  },
  {
   "cell_type": "code",
   "execution_count": 3,
   "id": "d1e075f2",
   "metadata": {
    "pycharm": {
     "name": "#%%\n"
    }
   },
   "outputs": [],
   "source": [
    "# Standard deviation parameter definitions.\n",
    "active_sd = 0.01\n",
    "passive_sd = 0.2\n",
    "\n",
    "def init_weights(layers, modes, active_sd, passive_sd):\n",
    "    \n",
    "    r1_weights = tf.random.normal(shape=[layers, modes], stddev=passive_sd)\n",
    "    s_weights = tf.random.normal(shape=[layers, modes], stddev=active_sd)\n",
    "    r2_weights = tf.random.normal(shape=[layers, modes], stddev=passive_sd)\n",
    "    dr_weights = tf.random.normal(shape=[layers, modes], stddev=active_sd)\n",
    "    k_weights = tf.random.normal(shape=[layers, modes], stddev=active_sd)\n",
    "\n",
    "    weights = tf.concat([r1_weights, s_weights, r2_weights, dr_weights, k_weights], axis=1)\n",
    "    weights = tf.Variable(weights)\n",
    "    \n",
    "    print(\"Shape of weights array is \" + str(weights.shape))\n",
    "\n",
    "    return weights"
   ]
  },
  {
   "cell_type": "code",
   "execution_count": 4,
   "id": "af565811",
   "metadata": {
    "pycharm": {
     "name": "#%%\n"
    }
   },
   "outputs": [],
   "source": [
    "# Construct a quantum layer function with initialized weights as variables.\n",
    "\n",
    "def q_layer(v):\n",
    "    qml.Rotation(v[0], wires=0)\n",
    "    qml.Squeezing(v[1], 0.0, wires=0)\n",
    "    qml.Rotation(v[2], wires=0)\n",
    "    qml.Displacement(v[3], 0.0, wires=0)\n",
    "    qml.Kerr(v[4], wires=0)"
   ]
  },
  {
   "cell_type": "code",
   "execution_count": 5,
   "id": "b4db3725",
   "metadata": {
    "pycharm": {
     "name": "#%%\n"
    }
   },
   "outputs": [],
   "source": [
    "num_modes = 1\n",
    "# The number of Fock basis we want to use to represent the system.\n",
    "num_basis = 3\n",
    "\n",
    "dev = qml.device(\"strawberryfields.fock\", wires=num_modes, cutoff_dim=num_basis) # select a device"
   ]
  },
  {
   "cell_type": "code",
   "execution_count": 6,
   "id": "0b5a8c30",
   "metadata": {
    "pycharm": {
     "name": "#%%\n"
    }
   },
   "outputs": [],
   "source": [
    "@qml.qnode(dev,  diff_method='finite-diff')\n",
    "def quantum_nn(inputs, var):\n",
    "    #Embedding of classical data into quantum feature space by using the displacement gate.\n",
    "    qml.Displacement(inputs[0], inputs[1], wires=0)\n",
    "    # Define the quantum layers.\n",
    "    for v in var:\n",
    "        q_layer(v)\n",
    "    return qml.probs([0])"
   ]
  },
  {
   "cell_type": "code",
   "execution_count": 7,
   "id": "45d0755f",
   "metadata": {
    "pycharm": {
     "name": "#%%\n"
    }
   },
   "outputs": [
    {
     "name": "stdout",
     "output_type": "stream",
     "text": [
      "Shape of weights array is (25, 5)\n",
      "Shape of weights array is (25, 5)\n"
     ]
    }
   ],
   "source": [
    "# ===================================================================================\n",
    "#                             Hybrid Model\n",
    "# ===================================================================================\n",
    "\n",
    "\"\"\"\n",
    "Add the quantum layer to the classical to create a hybrid model\n",
    "    1. initialize weights for quantum layers\n",
    "    2. create a dictionary of weight shape to pass as one of the variables to covert to keras layer\n",
    "    3. convert the quantum layer to a Keras layer\n",
    "    4. add to the classical sequential model\n",
    "\"\"\"\n",
    "\n",
    "num_layers = 25\n",
    "num_modes = 1\n",
    "\n",
    "weights = init_weights(num_layers, num_modes, active_sd, passive_sd)\n",
    "shape_tup = weights.shape\n",
    "weight_shapes = {'var': shape_tup}\n",
    "qlayer = qml.qnn.KerasLayer(quantum_nn, weight_shapes, output_dim=3)"
   ]
  },
  {
   "cell_type": "code",
   "execution_count": 8,
   "id": "d503b101",
   "metadata": {
    "pycharm": {
     "name": "#%%\n"
    }
   },
   "outputs": [],
   "source": [
    "class HybridAutoencoder(Model):\n",
    "  def __init__(self):\n",
    "    super(HybridAutoencoder, self).__init__()\n",
    "    self.encoder = tf.keras.Sequential([\n",
    "      layers.Dense(5, input_shape=(3,), activation =\"elu\"),\n",
    "      layers.Dense(5, activation=\"elu\"),\n",
    "      layers.Dense(5, activation=\"elu\"),\n",
    "      layers.Dense(5, activation=\"elu\"),\n",
    "      layers.Dense(5, activation=\"elu\"),\n",
    "      layers.Dense(5, activation=\"elu\")])\n",
    "\n",
    "    self.decoder = tf.keras.models.Sequential([\n",
    "        qlayer])\n",
    "\n",
    "  def call(self, x):\n",
    "    encoded = self.encoder(x)\n",
    "    decoded = self.decoder(encoded)\n",
    "    return decoded\n",
    "\n",
    "hybrid_autoencoder = HybridAutoencoder()   "
   ]
  },
  {
   "cell_type": "code",
   "execution_count": 9,
   "id": "7ee94d5a",
   "metadata": {
    "pycharm": {
     "name": "#%%\n"
    }
   },
   "outputs": [],
   "source": [
    "opt = Adam(learning_rate = 0.01)\n",
    "hybrid_autoencoder.compile(opt, loss='MSE', metrics = ['accuracy'])"
   ]
  },
  {
   "cell_type": "code",
   "execution_count": 10,
   "id": "042296e2",
   "metadata": {
    "pycharm": {
     "name": "#%%\n"
    }
   },
   "outputs": [
    {
     "name": "stdout",
     "output_type": "stream",
     "text": [
      "Epoch 1/50\n",
      "Epoch 1/50\n",
      "1/1 [==============================] - 2s 2s/step - loss: 0.3059 - accuracy: 0.0000e+00 - val_loss: 0.2621 - val_accuracy: 1.0000\n",
      "Epoch 2/50\n",
      "1/1 [==============================] - 2s 2s/step - loss: 0.3059 - accuracy: 0.0000e+00 - val_loss: 0.2621 - val_accuracy: 1.0000\n",
      "Epoch 2/50\n",
      "1/1 [==============================] - 1s 984ms/step - loss: 0.2621 - accuracy: 1.0000 - val_loss: 0.2228 - val_accuracy: 1.0000\n",
      "1/1 [==============================] - 1s 984ms/step - loss: 0.2621 - accuracy: 1.0000 - val_loss: 0.2228 - val_accuracy: 1.0000\n",
      "Epoch 3/50\n",
      "Epoch 3/50\n",
      "1/1 [==============================] - 1s 978ms/step - loss: 0.2228 - accuracy: 1.0000 - val_loss: 0.1914 - val_accuracy: 1.0000\n",
      "1/1 [==============================] - 1s 978ms/step - loss: 0.2228 - accuracy: 1.0000 - val_loss: 0.1914 - val_accuracy: 1.0000\n",
      "Epoch 4/50\n",
      "Epoch 4/50\n",
      "1/1 [==============================] - 1s 826ms/step - loss: 0.1914 - accuracy: 1.0000 - val_loss: 0.1640 - val_accuracy: 1.0000\n",
      "1/1 [==============================] - 1s 826ms/step - loss: 0.1914 - accuracy: 1.0000 - val_loss: 0.1640 - val_accuracy: 1.0000\n",
      "Epoch 5/50\n",
      "Epoch 5/50\n",
      "1/1 [==============================] - 1s 984ms/step - loss: 0.1640 - accuracy: 1.0000 - val_loss: 0.1413 - val_accuracy: 1.0000\n",
      "Epoch 6/50\n",
      "1/1 [==============================] - 1s 984ms/step - loss: 0.1640 - accuracy: 1.0000 - val_loss: 0.1413 - val_accuracy: 1.0000\n",
      "Epoch 6/50\n",
      "1/1 [==============================] - 1s 847ms/step - loss: 0.1413 - accuracy: 1.0000 - val_loss: 0.1234 - val_accuracy: 1.0000\n",
      "Epoch 7/50\n",
      "1/1 [==============================] - 1s 847ms/step - loss: 0.1413 - accuracy: 1.0000 - val_loss: 0.1234 - val_accuracy: 1.0000\n",
      "Epoch 7/50\n",
      "1/1 [==============================] - 1s 986ms/step - loss: 0.1234 - accuracy: 1.0000 - val_loss: 0.1095 - val_accuracy: 1.0000\n",
      "1/1 [==============================] - 1s 986ms/step - loss: 0.1234 - accuracy: 1.0000 - val_loss: 0.1095 - val_accuracy: 1.0000\n",
      "Epoch 8/50\n",
      "Epoch 8/50\n",
      "1/1 [==============================] - 1s 1s/step - loss: 0.1095 - accuracy: 1.0000 - val_loss: 0.0995 - val_accuracy: 1.0000\n",
      "Epoch 9/50\n",
      "1/1 [==============================] - 1s 1s/step - loss: 0.1095 - accuracy: 1.0000 - val_loss: 0.0995 - val_accuracy: 1.0000\n",
      "Epoch 9/50\n",
      "1/1 [==============================] - 1s 837ms/step - loss: 0.0995 - accuracy: 1.0000 - val_loss: 0.0938 - val_accuracy: 1.0000\n",
      "Epoch 10/50\n",
      "1/1 [==============================] - 1s 837ms/step - loss: 0.0995 - accuracy: 1.0000 - val_loss: 0.0938 - val_accuracy: 1.0000\n",
      "Epoch 10/50\n",
      "1/1 [==============================] - 1s 1s/step - loss: 0.0938 - accuracy: 1.0000 - val_loss: 0.0900 - val_accuracy: 1.0000\n",
      "1/1 [==============================] - 1s 1s/step - loss: 0.0938 - accuracy: 1.0000 - val_loss: 0.0900 - val_accuracy: 1.0000\n",
      "Epoch 11/50\n",
      "Epoch 11/50\n",
      "1/1 [==============================] - 1s 920ms/step - loss: 0.0900 - accuracy: 1.0000 - val_loss: 0.0839 - val_accuracy: 1.0000\n",
      "1/1 [==============================] - 1s 920ms/step - loss: 0.0900 - accuracy: 1.0000 - val_loss: 0.0839 - val_accuracy: 1.0000\n",
      "Epoch 12/50\n",
      "Epoch 12/50\n",
      "1/1 [==============================] - 1s 1s/step - loss: 0.0839 - accuracy: 1.0000 - val_loss: 0.0763 - val_accuracy: 1.0000\n",
      "1/1 [==============================] - 1s 1s/step - loss: 0.0839 - accuracy: 1.0000 - val_loss: 0.0763 - val_accuracy: 1.0000\n",
      "Epoch 13/50\n",
      "Epoch 13/50\n",
      "1/1 [==============================] - 1s 1s/step - loss: 0.0763 - accuracy: 1.0000 - val_loss: 0.0701 - val_accuracy: 1.0000\n",
      "Epoch 14/50\n",
      "1/1 [==============================] - 1s 1s/step - loss: 0.0763 - accuracy: 1.0000 - val_loss: 0.0701 - val_accuracy: 1.0000\n",
      "Epoch 14/50\n",
      "1/1 [==============================] - 1s 867ms/step - loss: 0.0701 - accuracy: 1.0000 - val_loss: 0.0653 - val_accuracy: 1.0000\n",
      "1/1 [==============================] - 1s 867ms/step - loss: 0.0701 - accuracy: 1.0000 - val_loss: 0.0653 - val_accuracy: 1.0000\n",
      "Epoch 15/50\n",
      "Epoch 15/50\n",
      "1/1 [==============================] - 1s 1s/step - loss: 0.0653 - accuracy: 1.0000 - val_loss: 0.0604 - val_accuracy: 1.0000\n",
      "1/1 [==============================] - 1s 1s/step - loss: 0.0653 - accuracy: 1.0000 - val_loss: 0.0604 - val_accuracy: 1.0000\n",
      "Epoch 16/50\n",
      "Epoch 16/50\n",
      "1/1 [==============================] - 1s 875ms/step - loss: 0.0604 - accuracy: 1.0000 - val_loss: 0.0551 - val_accuracy: 1.0000\n",
      "1/1 [==============================] - 1s 875ms/step - loss: 0.0604 - accuracy: 1.0000 - val_loss: 0.0551 - val_accuracy: 1.0000\n",
      "Epoch 17/50\n",
      "Epoch 17/50\n",
      "1/1 [==============================] - 1s 1s/step - loss: 0.0551 - accuracy: 1.0000 - val_loss: 0.0504 - val_accuracy: 1.0000\n",
      "Epoch 18/50\n",
      "1/1 [==============================] - 1s 1s/step - loss: 0.0551 - accuracy: 1.0000 - val_loss: 0.0504 - val_accuracy: 1.0000\n",
      "Epoch 18/50\n",
      "1/1 [==============================] - 1s 1s/step - loss: 0.0504 - accuracy: 1.0000 - val_loss: 0.0473 - val_accuracy: 1.0000\n",
      "Epoch 19/50\n",
      "1/1 [==============================] - 1s 1s/step - loss: 0.0504 - accuracy: 1.0000 - val_loss: 0.0473 - val_accuracy: 1.0000\n",
      "Epoch 19/50\n",
      "1/1 [==============================] - 1s 893ms/step - loss: 0.0473 - accuracy: 1.0000 - val_loss: 0.0455 - val_accuracy: 1.0000\n",
      "1/1 [==============================] - 1s 893ms/step - loss: 0.0473 - accuracy: 1.0000 - val_loss: 0.0455 - val_accuracy: 1.0000\n",
      "Epoch 20/50\n",
      "Epoch 20/50\n",
      "1/1 [==============================] - 1s 1s/step - loss: 0.0455 - accuracy: 1.0000 - val_loss: 0.0437 - val_accuracy: 1.0000\n",
      "1/1 [==============================] - 1s 1s/step - loss: 0.0455 - accuracy: 1.0000 - val_loss: 0.0437 - val_accuracy: 1.0000\n",
      "Epoch 21/50\n",
      "Epoch 21/50\n",
      "1/1 [==============================] - 1s 878ms/step - loss: 0.0437 - accuracy: 1.0000 - val_loss: 0.0410 - val_accuracy: 1.0000\n",
      "1/1 [==============================] - 1s 878ms/step - loss: 0.0437 - accuracy: 1.0000 - val_loss: 0.0410 - val_accuracy: 1.0000\n",
      "Epoch 22/50\n",
      "Epoch 22/50\n",
      "1/1 [==============================] - 1s 1s/step - loss: 0.0410 - accuracy: 1.0000 - val_loss: 0.0381 - val_accuracy: 1.0000\n",
      "1/1 [==============================] - 1s 1s/step - loss: 0.0410 - accuracy: 1.0000 - val_loss: 0.0381 - val_accuracy: 1.0000\n",
      "Epoch 23/50\n",
      "Epoch 23/50\n",
      "1/1 [==============================] - 1s 1s/step - loss: 0.0381 - accuracy: 1.0000 - val_loss: 0.0357 - val_accuracy: 1.0000\n",
      "Epoch 24/50\n",
      "1/1 [==============================] - 1s 1s/step - loss: 0.0381 - accuracy: 1.0000 - val_loss: 0.0357 - val_accuracy: 1.0000\n",
      "Epoch 24/50\n",
      "1/1 [==============================] - 1s 890ms/step - loss: 0.0357 - accuracy: 1.0000 - val_loss: 0.0341 - val_accuracy: 1.0000\n",
      "1/1 [==============================] - 1s 890ms/step - loss: 0.0357 - accuracy: 1.0000 - val_loss: 0.0341 - val_accuracy: 1.0000\n",
      "Epoch 25/50\n",
      "Epoch 25/50\n",
      "1/1 [==============================] - 1s 1s/step - loss: 0.0341 - accuracy: 1.0000 - val_loss: 0.0327 - val_accuracy: 1.0000\n",
      "Epoch 26/50\n",
      "1/1 [==============================] - 1s 1s/step - loss: 0.0341 - accuracy: 1.0000 - val_loss: 0.0327 - val_accuracy: 1.0000\n",
      "Epoch 26/50\n",
      "1/1 [==============================] - 1s 861ms/step - loss: 0.0327 - accuracy: 1.0000 - val_loss: 0.0310 - val_accuracy: 1.0000\n",
      "1/1 [==============================] - 1s 861ms/step - loss: 0.0327 - accuracy: 1.0000 - val_loss: 0.0310 - val_accuracy: 1.0000\n",
      "Epoch 27/50\n",
      "Epoch 27/50\n",
      "1/1 [==============================] - 1s 993ms/step - loss: 0.0310 - accuracy: 1.0000 - val_loss: 0.0292 - val_accuracy: 1.0000\n",
      "1/1 [==============================] - 1s 993ms/step - loss: 0.0310 - accuracy: 1.0000 - val_loss: 0.0292 - val_accuracy: 1.0000\n",
      "Epoch 28/50\n",
      "Epoch 28/50\n",
      "1/1 [==============================] - 1s 970ms/step - loss: 0.0292 - accuracy: 1.0000 - val_loss: 0.0277 - val_accuracy: 1.0000\n",
      "Epoch 29/50\n",
      "1/1 [==============================] - 1s 970ms/step - loss: 0.0292 - accuracy: 1.0000 - val_loss: 0.0277 - val_accuracy: 1.0000\n",
      "Epoch 29/50\n",
      "1/1 [==============================] - 1s 825ms/step - loss: 0.0277 - accuracy: 1.0000 - val_loss: 0.0267 - val_accuracy: 1.0000\n",
      "Epoch 30/50\n",
      "1/1 [==============================] - 1s 825ms/step - loss: 0.0277 - accuracy: 1.0000 - val_loss: 0.0267 - val_accuracy: 1.0000\n",
      "Epoch 30/50\n"
     ]
    },
    {
     "name": "stdout",
     "output_type": "stream",
     "text": [
      "1/1 [==============================] - 1s 970ms/step - loss: 0.0267 - accuracy: 1.0000 - val_loss: 0.0259 - val_accuracy: 1.0000\n",
      "1/1 [==============================] - 1s 970ms/step - loss: 0.0267 - accuracy: 1.0000 - val_loss: 0.0259 - val_accuracy: 1.0000\n",
      "Epoch 31/50\n",
      "Epoch 31/50\n",
      "1/1 [==============================] - 1s 835ms/step - loss: 0.0259 - accuracy: 1.0000 - val_loss: 0.0252 - val_accuracy: 1.0000\n",
      "1/1 [==============================] - 1s 835ms/step - loss: 0.0259 - accuracy: 1.0000 - val_loss: 0.0252 - val_accuracy: 1.0000\n",
      "Epoch 32/50\n",
      "Epoch 32/50\n",
      "1/1 [==============================] - 1s 986ms/step - loss: 0.0252 - accuracy: 1.0000 - val_loss: 0.0242 - val_accuracy: 1.0000\n",
      "Epoch 33/50\n",
      "1/1 [==============================] - 1s 986ms/step - loss: 0.0252 - accuracy: 1.0000 - val_loss: 0.0242 - val_accuracy: 1.0000\n",
      "Epoch 33/50\n",
      "1/1 [==============================] - 1s 986ms/step - loss: 0.0242 - accuracy: 1.0000 - val_loss: 0.0233 - val_accuracy: 1.0000\n",
      "Epoch 34/50\n",
      "1/1 [==============================] - 1s 986ms/step - loss: 0.0242 - accuracy: 1.0000 - val_loss: 0.0233 - val_accuracy: 1.0000\n",
      "Epoch 34/50\n",
      "1/1 [==============================] - 1s 854ms/step - loss: 0.0233 - accuracy: 1.0000 - val_loss: 0.0225 - val_accuracy: 1.0000\n",
      "Epoch 35/50\n",
      "1/1 [==============================] - 1s 854ms/step - loss: 0.0233 - accuracy: 1.0000 - val_loss: 0.0225 - val_accuracy: 1.0000\n",
      "Epoch 35/50\n",
      "1/1 [==============================] - 1s 978ms/step - loss: 0.0225 - accuracy: 1.0000 - val_loss: 0.0218 - val_accuracy: 1.0000\n",
      "1/1 [==============================] - 1s 978ms/step - loss: 0.0225 - accuracy: 1.0000 - val_loss: 0.0218 - val_accuracy: 1.0000\n",
      "Epoch 36/50\n",
      "Epoch 36/50\n",
      "1/1 [==============================] - 1s 834ms/step - loss: 0.0218 - accuracy: 1.0000 - val_loss: 0.0211 - val_accuracy: 1.0000\n",
      "1/1 [==============================] - 1s 834ms/step - loss: 0.0218 - accuracy: 1.0000 - val_loss: 0.0211 - val_accuracy: 1.0000\n",
      "Epoch 37/50\n",
      "Epoch 37/50\n",
      "1/1 [==============================] - 1s 978ms/step - loss: 0.0211 - accuracy: 1.0000 - val_loss: 0.0204 - val_accuracy: 1.0000\n",
      "Epoch 38/50\n",
      "1/1 [==============================] - 1s 978ms/step - loss: 0.0211 - accuracy: 1.0000 - val_loss: 0.0204 - val_accuracy: 1.0000\n",
      "Epoch 38/50\n",
      "1/1 [==============================] - 1s 994ms/step - loss: 0.0204 - accuracy: 1.0000 - val_loss: 0.0197 - val_accuracy: 1.0000\n",
      "Epoch 39/50\n",
      "1/1 [==============================] - 1s 994ms/step - loss: 0.0204 - accuracy: 1.0000 - val_loss: 0.0197 - val_accuracy: 1.0000\n",
      "Epoch 39/50\n",
      "1/1 [==============================] - 1s 831ms/step - loss: 0.0197 - accuracy: 1.0000 - val_loss: 0.0192 - val_accuracy: 1.0000\n",
      "Epoch 40/50\n",
      "1/1 [==============================] - 1s 831ms/step - loss: 0.0197 - accuracy: 1.0000 - val_loss: 0.0192 - val_accuracy: 1.0000\n",
      "Epoch 40/50\n",
      "1/1 [==============================] - 1s 974ms/step - loss: 0.0192 - accuracy: 1.0000 - val_loss: 0.0188 - val_accuracy: 1.0000\n",
      "Epoch 41/50\n",
      "1/1 [==============================] - 1s 974ms/step - loss: 0.0192 - accuracy: 1.0000 - val_loss: 0.0188 - val_accuracy: 1.0000\n",
      "Epoch 41/50\n",
      "1/1 [==============================] - 1s 834ms/step - loss: 0.0188 - accuracy: 1.0000 - val_loss: 0.0185 - val_accuracy: 1.0000\n",
      "1/1 [==============================] - 1s 834ms/step - loss: 0.0188 - accuracy: 1.0000 - val_loss: 0.0185 - val_accuracy: 1.0000\n",
      "Epoch 42/50\n",
      "Epoch 42/50\n",
      "1/1 [==============================] - 1s 964ms/step - loss: 0.0185 - accuracy: 1.0000 - val_loss: 0.0181 - val_accuracy: 1.0000\n",
      "1/1 [==============================] - 1s 964ms/step - loss: 0.0185 - accuracy: 1.0000 - val_loss: 0.0181 - val_accuracy: 1.0000\n",
      "Epoch 43/50\n",
      "Epoch 43/50\n",
      "1/1 [==============================] - 1s 1s/step - loss: 0.0181 - accuracy: 1.0000 - val_loss: 0.0177 - val_accuracy: 1.0000\n",
      "1/1 [==============================] - 1s 1s/step - loss: 0.0181 - accuracy: 1.0000 - val_loss: 0.0177 - val_accuracy: 1.0000\n",
      "Epoch 44/50\n",
      "Epoch 44/50\n",
      "1/1 [==============================] - 1s 882ms/step - loss: 0.0177 - accuracy: 1.0000 - val_loss: 0.0173 - val_accuracy: 1.0000\n",
      "Epoch 45/50\n",
      "1/1 [==============================] - 1s 882ms/step - loss: 0.0177 - accuracy: 1.0000 - val_loss: 0.0173 - val_accuracy: 1.0000\n",
      "Epoch 45/50\n",
      "1/1 [==============================] - 1s 979ms/step - loss: 0.0173 - accuracy: 1.0000 - val_loss: 0.0170 - val_accuracy: 1.0000\n",
      "1/1 [==============================] - 1s 979ms/step - loss: 0.0173 - accuracy: 1.0000 - val_loss: 0.0170 - val_accuracy: 1.0000\n",
      "Epoch 46/50\n",
      "Epoch 46/50\n",
      "1/1 [==============================] - 1s 834ms/step - loss: 0.0170 - accuracy: 1.0000 - val_loss: 0.0167 - val_accuracy: 1.0000\n",
      "Epoch 47/50\n",
      "1/1 [==============================] - 1s 834ms/step - loss: 0.0170 - accuracy: 1.0000 - val_loss: 0.0167 - val_accuracy: 1.0000\n",
      "Epoch 47/50\n",
      "1/1 [==============================] - 1s 987ms/step - loss: 0.0167 - accuracy: 1.0000 - val_loss: 0.0165 - val_accuracy: 1.0000\n",
      "Epoch 48/50\n",
      "1/1 [==============================] - 1s 987ms/step - loss: 0.0167 - accuracy: 1.0000 - val_loss: 0.0165 - val_accuracy: 1.0000\n",
      "Epoch 48/50\n",
      "1/1 [==============================] - 1s 984ms/step - loss: 0.0165 - accuracy: 1.0000 - val_loss: 0.0162 - val_accuracy: 1.0000\n",
      "1/1 [==============================] - 1s 984ms/step - loss: 0.0165 - accuracy: 1.0000 - val_loss: 0.0162 - val_accuracy: 1.0000\n",
      "Epoch 49/50\n",
      "Epoch 49/50\n",
      "1/1 [==============================] - 1s 847ms/step - loss: 0.0162 - accuracy: 1.0000 - val_loss: 0.0159 - val_accuracy: 1.0000\n",
      "Epoch 50/50\n",
      "1/1 [==============================] - 1s 847ms/step - loss: 0.0162 - accuracy: 1.0000 - val_loss: 0.0159 - val_accuracy: 1.0000\n",
      "Epoch 50/50\n",
      "1/1 [==============================] - 1s 988ms/step - loss: 0.0159 - accuracy: 1.0000 - val_loss: 0.0157 - val_accuracy: 1.0000\n",
      "1/1 [==============================] - 1s 988ms/step - loss: 0.0159 - accuracy: 1.0000 - val_loss: 0.0157 - val_accuracy: 1.0000\n"
     ]
    }
   ],
   "source": [
    "history = hybrid_autoencoder.fit(x_train, x_train,\n",
    "          epochs=50,\n",
    "          batch_size=12,\n",
    "          validation_data=(x_test, x_test),\n",
    "          shuffle=True)"
   ]
  },
  {
   "cell_type": "code",
   "execution_count": 16,
   "id": "88439ca3",
   "metadata": {
    "pycharm": {
     "name": "#%%\n"
    }
   },
   "outputs": [
    {
     "data": {
      "image/png": "[encoded data removed]",
      "text/plain": [
       "<Figure size 1200x600 with 1 Axes>"
      ]
     },
     "metadata": {
      "needs_background": "light"
     },
     "output_type": "display_data"
    },
    {
     "data": {
      "image/png": "[encoded data removed]",
      "text/plain": [
       "<Figure size 1200x600 with 1 Axes>"
      ]
     },
     "metadata": {
      "needs_background": "light"
     },
     "output_type": "display_data"
    }
   ],
   "source": [
    "from matplotlib.pyplot import figure\n",
    "\n",
    "figure(figsize=(12, 6), dpi=100)\n",
    "plt.plot(history.history[\"loss\"], label=\"Training Loss\")\n",
    "plt.xlabel('Epoch')\n",
    "plt.ylabel('Loss')\n",
    "plt.title('Finite Diffderence Gradient With MSE')\n",
    "#plt.plot(history.history[\"val_loss\"], label=\"Validation Loss\")\n",
    "plt.legend()\n",
    "plt.savefig('fdmse_loss.png')"
   ]
  },
  {
   "cell_type": "code",
   "execution_count": 12,
   "id": "9ade123e",
   "metadata": {
    "pycharm": {
     "name": "#%%\n"
    }
   },
   "outputs": [
    {
     "data": {
      "text/plain": [
       "<matplotlib.legend.Legend at 0x1e0cd05e760>"
      ]
     },
     "execution_count": 12,
     "metadata": {},
     "output_type": "execute_result"
    },
    {
     "data": {
      "text/plain": [
       "<matplotlib.legend.Legend at 0x1e0cd05e760>"
      ]
     },
     "execution_count": 12,
     "metadata": {},
     "output_type": "execute_result"
    },
    {
     "data": {
      "image/png": "[encoded data removed]",
      "text/plain": [
       "<Figure size 1200x600 with 1 Axes>"
      ]
     },
     "metadata": {
      "needs_background": "light"
     },
     "output_type": "display_data"
    },
    {
     "data": {
      "image/png": "[encoded data removed]",
      "text/plain": [
       "<Figure size 1200x600 with 1 Axes>"
      ]
     },
     "metadata": {
      "needs_background": "light"
     },
     "output_type": "display_data"
    }
   ],
   "source": [
    "from matplotlib.pyplot import figure\n",
    "\n",
    "figure(figsize=(12, 6), dpi=100)\n",
    "plt.plot(history.history[\"accuracy\"], label=\"Training Accuracy\")\n",
    "plt.plot(history.history[\"val_accuracy\"], label=\"Validation Accuracy\")\n",
    "plt.legend()"
   ]
  },
  {
   "cell_type": "code",
   "execution_count": 13,
   "id": "b3b4e7b8",
   "metadata": {
    "pycharm": {
     "name": "#%%\n"
    }
   },
   "outputs": [],
   "source": [
    "encoded_data = hybrid_autoencoder.encoder(x_train).numpy()\n",
    "decoded_data = hybrid_autoencoder.decoder(encoded_data).numpy()"
   ]
  },
  {
   "cell_type": "code",
   "execution_count": 14,
   "id": "ee9a3974",
   "metadata": {
    "pycharm": {
     "name": "#%%\n"
    }
   },
   "outputs": [
    {
     "name": "stdout",
     "output_type": "stream",
     "text": [
      "(3,)\n",
      "(3,)\n",
      "(3,)\n",
      "(3,)\n"
     ]
    },
    {
     "ename": "IndexError",
     "evalue": "index 1 is out of bounds for axis 0 with size 1",
     "output_type": "error",
     "traceback": [
      "\u001b[1;31m---------------------------------------------------------------------------\u001b[0m",
      "\u001b[1;31mIndexError\u001b[0m                                Traceback (most recent call last)",
      "Input \u001b[1;32mIn [14]\u001b[0m, in \u001b[0;36m<cell line: 3>\u001b[1;34m()\u001b[0m\n\u001b[0;32m      1\u001b[0m \u001b[38;5;28mprint\u001b[39m(np\u001b[38;5;241m.\u001b[39mshape(decoded_data[\u001b[38;5;241m0\u001b[39m]))\n\u001b[0;32m      2\u001b[0m \u001b[38;5;28mprint\u001b[39m(np\u001b[38;5;241m.\u001b[39mshape(x_train[\u001b[38;5;241m0\u001b[39m]))\n\u001b[1;32m----> 3\u001b[0m input_data \u001b[38;5;241m=\u001b[39m \u001b[43mx_train\u001b[49m\u001b[43m[\u001b[49m\u001b[38;5;241;43m1\u001b[39;49m\u001b[43m]\u001b[49m\n\u001b[0;32m      4\u001b[0m output_data \u001b[38;5;241m=\u001b[39m decoded_data[\u001b[38;5;241m1\u001b[39m]\n\u001b[0;32m      5\u001b[0m plt\u001b[38;5;241m.\u001b[39mplot(input_data, \u001b[38;5;124m'\u001b[39m\u001b[38;5;124mb\u001b[39m\u001b[38;5;124m'\u001b[39m)\n",
      "File \u001b[1;32m~\\anaconda3\\envs\\qml\\lib\\site-packages\\pennylane\\numpy\\tensor.py:184\u001b[0m, in \u001b[0;36mtensor.__getitem__\u001b[1;34m(self, *args, **kwargs)\u001b[0m\n\u001b[0;32m    183\u001b[0m \u001b[38;5;28;01mdef\u001b[39;00m \u001b[38;5;21m__getitem__\u001b[39m(\u001b[38;5;28mself\u001b[39m, \u001b[38;5;241m*\u001b[39margs, \u001b[38;5;241m*\u001b[39m\u001b[38;5;241m*\u001b[39mkwargs):\n\u001b[1;32m--> 184\u001b[0m     item \u001b[38;5;241m=\u001b[39m \u001b[38;5;28msuper\u001b[39m()\u001b[38;5;241m.\u001b[39m\u001b[38;5;21m__getitem__\u001b[39m(\u001b[38;5;241m*\u001b[39margs, \u001b[38;5;241m*\u001b[39m\u001b[38;5;241m*\u001b[39mkwargs)\n\u001b[0;32m    186\u001b[0m     \u001b[38;5;28;01mif\u001b[39;00m \u001b[38;5;129;01mnot\u001b[39;00m \u001b[38;5;28misinstance\u001b[39m(item, tensor):\n\u001b[0;32m    187\u001b[0m         item \u001b[38;5;241m=\u001b[39m tensor(item, requires_grad\u001b[38;5;241m=\u001b[39m\u001b[38;5;28mself\u001b[39m\u001b[38;5;241m.\u001b[39mrequires_grad)\n",
      "\u001b[1;31mIndexError\u001b[0m: index 1 is out of bounds for axis 0 with size 1"
     ]
    },
    {
     "ename": "IndexError",
     "evalue": "index 1 is out of bounds for axis 0 with size 1",
     "output_type": "error",
     "traceback": [
      "\u001b[1;31m---------------------------------------------------------------------------\u001b[0m",
      "\u001b[1;31mIndexError\u001b[0m                                Traceback (most recent call last)",
      "Input \u001b[1;32mIn [14]\u001b[0m, in \u001b[0;36m<cell line: 3>\u001b[1;34m()\u001b[0m\n\u001b[0;32m      1\u001b[0m \u001b[38;5;28mprint\u001b[39m(np\u001b[38;5;241m.\u001b[39mshape(decoded_data[\u001b[38;5;241m0\u001b[39m]))\n\u001b[0;32m      2\u001b[0m \u001b[38;5;28mprint\u001b[39m(np\u001b[38;5;241m.\u001b[39mshape(x_train[\u001b[38;5;241m0\u001b[39m]))\n\u001b[1;32m----> 3\u001b[0m input_data \u001b[38;5;241m=\u001b[39m \u001b[43mx_train\u001b[49m\u001b[43m[\u001b[49m\u001b[38;5;241;43m1\u001b[39;49m\u001b[43m]\u001b[49m\n\u001b[0;32m      4\u001b[0m output_data \u001b[38;5;241m=\u001b[39m decoded_data[\u001b[38;5;241m1\u001b[39m]\n\u001b[0;32m      5\u001b[0m plt\u001b[38;5;241m.\u001b[39mplot(input_data, \u001b[38;5;124m'\u001b[39m\u001b[38;5;124mb\u001b[39m\u001b[38;5;124m'\u001b[39m)\n",
      "File \u001b[1;32m~\\anaconda3\\envs\\qml\\lib\\site-packages\\pennylane\\numpy\\tensor.py:184\u001b[0m, in \u001b[0;36mtensor.__getitem__\u001b[1;34m(self, *args, **kwargs)\u001b[0m\n\u001b[0;32m    183\u001b[0m \u001b[38;5;28;01mdef\u001b[39;00m \u001b[38;5;21m__getitem__\u001b[39m(\u001b[38;5;28mself\u001b[39m, \u001b[38;5;241m*\u001b[39margs, \u001b[38;5;241m*\u001b[39m\u001b[38;5;241m*\u001b[39mkwargs):\n\u001b[1;32m--> 184\u001b[0m     item \u001b[38;5;241m=\u001b[39m \u001b[38;5;28msuper\u001b[39m()\u001b[38;5;241m.\u001b[39m\u001b[38;5;21m__getitem__\u001b[39m(\u001b[38;5;241m*\u001b[39margs, \u001b[38;5;241m*\u001b[39m\u001b[38;5;241m*\u001b[39mkwargs)\n\u001b[0;32m    186\u001b[0m     \u001b[38;5;28;01mif\u001b[39;00m \u001b[38;5;129;01mnot\u001b[39;00m \u001b[38;5;28misinstance\u001b[39m(item, tensor):\n\u001b[0;32m    187\u001b[0m         item \u001b[38;5;241m=\u001b[39m tensor(item, requires_grad\u001b[38;5;241m=\u001b[39m\u001b[38;5;28mself\u001b[39m\u001b[38;5;241m.\u001b[39mrequires_grad)\n",
      "\u001b[1;31mIndexError\u001b[0m: index 1 is out of bounds for axis 0 with size 1"
     ]
    }
   ],
   "source": [
    "print(np.shape(decoded_data[0]))\n",
    "print(np.shape(x_train[0]))\n",
    "input_data = x_train[1]\n",
    "output_data = decoded_data[1]\n",
    "plt.plot(input_data, 'b')\n",
    "plt.plot(output_data, 'r')\n",
    "plt.fill_between(np.arange(np.shape(output_data)[0]), output_data, input_data, color='lightcoral')\n",
    "plt.legend(labels=[\"Input\", \"Reconstruction\", \"Error\"])\n",
    "plt.show()"
   ]
  },
  {
   "cell_type": "code",
   "execution_count": null,
   "id": "ecb65d43",
   "metadata": {
    "pycharm": {
     "name": "#%%\n"
    }
   },
   "outputs": [],
   "source": []
  }
 ],
 "metadata": {
  "kernelspec": {
   "display_name": "Python [conda env:qml] *",
   "language": "python",
   "name": "conda-env-qml-py"
  },
  "language_info": {
   "codemirror_mode": {
    "name": "ipython",
    "version": 3
   },
   "file_extension": ".py",
   "mimetype": "text/x-python",
   "name": "python",
   "nbconvert_exporter": "python",
   "pygments_lexer": "ipython3",
   "version": "3.9.7"
  }
 },
 "nbformat": 4,
 "nbformat_minor": 5
}
