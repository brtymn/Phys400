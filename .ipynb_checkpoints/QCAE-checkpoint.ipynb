{
 "cells": [
  {
   "cell_type": "code",
   "execution_count": 1,
   "id": "21ba08cc",
   "metadata": {
    "pycharm": {
     "name": "#%%\n"
    }
   },
   "outputs": [
    {
     "name": "stderr",
     "output_type": "stream",
     "text": [
      "2022-06-29 18:09:14.350684: W tensorflow/stream_executor/platform/default/dso_loader.cc:64] Could not load dynamic library 'libcudart.so.11.0'; dlerror: libcudart.so.11.0: cannot open shared object file: No such file or directory\n",
      "2022-06-29 18:09:14.350707: I tensorflow/stream_executor/cuda/cudart_stub.cc:29] Ignore above cudart dlerror if you do not have a GPU set up on your machine.\n"
     ]
    },
    {
     "name": "stdout",
     "output_type": "stream",
     "text": [
      "Name: PennyLane\n",
      "Version: 0.24.0\n",
      "Summary: PennyLane is a Python quantum machine learning library by Xanadu Inc.\n",
      "Home-page: https://github.com/XanaduAI/pennylane\n",
      "Author: \n",
      "Author-email: \n",
      "License: Apache License 2.0\n",
      "Location: /home/bartu/miniconda3/envs/qml/lib/python3.10/site-packages\n",
      "Requires: pennylane-lightning, retworkx, semantic-version, autoray, toml, scipy, networkx, appdirs, numpy, cachetools, autograd\n",
      "Required-by: PennyLane-SF, PennyLane-Lightning\n",
      "\n",
      "Platform info:           Linux-5.4.0-121-generic-x86_64-with-glibc2.31\n",
      "Python version:          3.10.4\n",
      "Numpy version:           1.22.4\n",
      "Scipy version:           1.8.1\n",
      "Installed devices:\n",
      "- lightning.qubit (PennyLane-Lightning-0.24.0)\n",
      "- default.gaussian (PennyLane-0.24.0)\n",
      "- default.mixed (PennyLane-0.24.0)\n",
      "- default.qubit (PennyLane-0.24.0)\n",
      "- default.qubit.autograd (PennyLane-0.24.0)\n",
      "- default.qubit.jax (PennyLane-0.24.0)\n",
      "- default.qubit.tf (PennyLane-0.24.0)\n",
      "- default.qubit.torch (PennyLane-0.24.0)\n",
      "- strawberryfields.fock (PennyLane-SF-0.20.1)\n",
      "- strawberryfields.gaussian (PennyLane-SF-0.20.1)\n",
      "- strawberryfields.gbs (PennyLane-SF-0.20.1)\n",
      "- strawberryfields.remote (PennyLane-SF-0.20.1)\n",
      "- strawberryfields.tf (PennyLane-SF-0.20.1)\n"
     ]
    }
   ],
   "source": [
    "from tensorflow.keras.models import Model\n",
    "import tensorflow as tf\n",
    "from tensorflow.keras import layers, losses\n",
    "\n",
    "\n",
    "from keras.models import Sequential\n",
    "from keras.layers import Dense\n",
    "from keras.utils.vis_utils import plot_model\n",
    "from tensorflow.keras.optimizers import Adam\n",
    "from keras.backend import set_floatx\n",
    "\n",
    "import pennylane as qml\n",
    "from pennylane.optimize import AdamOptimizer\n",
    "qml.about()\n",
    "\n",
    "from pennylane import numpy as np\n",
    "import matplotlib.pyplot as plt"
   ]
  },
  {
   "cell_type": "code",
   "execution_count": 2,
   "id": "fbfe1d24",
   "metadata": {
    "pycharm": {
     "name": "#%%\n"
    }
   },
   "outputs": [
    {
     "name": "stdout",
     "output_type": "stream",
     "text": [
      "Size of training data: 3\n",
      "Size of test data: 3\n"
     ]
    }
   ],
   "source": [
    "\"\"\"\n",
    "Generate data for the hybrid autoencoder to use.\n",
    "\"\"\"\n",
    "# To avoid the InvalidArgumentError: cannot compute MatMul as input #0(zero-based) was expected to be a float tensor\n",
    "set_floatx('float64')\n",
    "\n",
    "# Number of training data.\n",
    "num_train = 1\n",
    "# Number of test data.\n",
    "num_test = 1\n",
    "# Size of the autoencoder input.\n",
    "len_vector = 3\n",
    "\n",
    "# Seed definition for consistent results.\n",
    "np.random.seed(1)\n",
    "# Training data generation.\n",
    "x_train = np.array([[0+0j, 1+0j, 0+0j]])\n",
    "# Test data generation.\n",
    "x_test = np.array([[0+0j, 1+0j, 0+0j]])\n",
    "\n",
    "# Print the size of generated data.\n",
    "print(\"Size of training data: \" + str(np.size(x_train)))\n",
    "print(\"Size of test data: \" + str(np.size(x_test)))"
   ]
  },
  {
   "cell_type": "code",
   "execution_count": 3,
   "id": "d1e075f2",
   "metadata": {
    "pycharm": {
     "name": "#%%\n"
    }
   },
   "outputs": [],
   "source": [
    "# Standard deviation parameter definitions.\n",
    "active_sd = 0.01\n",
    "passive_sd = 0.2\n",
    "\n",
    "def init_weights(layers, modes, active_sd, passive_sd):\n",
    "    \n",
    "    r1_weights = tf.random.normal(shape=[layers, modes], stddev=passive_sd)\n",
    "    s_weights = tf.random.normal(shape=[layers, modes], stddev=active_sd)\n",
    "    r2_weights = tf.random.normal(shape=[layers, modes], stddev=passive_sd)\n",
    "    dr_weights = tf.random.normal(shape=[layers, modes], stddev=active_sd)\n",
    "    k_weights = tf.random.normal(shape=[layers, modes], stddev=active_sd)\n",
    "\n",
    "    weights = tf.concat([r1_weights, s_weights, r2_weights, dr_weights, k_weights], axis=1)\n",
    "    weights = tf.Variable(weights)\n",
    "    \n",
    "    print(\"Shape of weights array is \" + str(weights.shape))\n",
    "\n",
    "    return weights"
   ]
  },
  {
   "cell_type": "code",
   "execution_count": 4,
   "id": "af565811",
   "metadata": {
    "pycharm": {
     "name": "#%%\n"
    }
   },
   "outputs": [],
   "source": [
    "# Construct a quantum layer function with initialized weights as variables.\n",
    "\n",
    "def q_layer(v):\n",
    "    qml.Rotation(v[0], wires=0)\n",
    "    qml.Squeezing(v[1], 0.0, wires=0)\n",
    "    qml.Rotation(v[2], wires=0)\n",
    "    qml.Displacement(v[3], 0.0, wires=0)\n",
    "    qml.Kerr(v[4], wires=0)"
   ]
  },
  {
   "cell_type": "code",
   "execution_count": 5,
   "id": "b4db3725",
   "metadata": {
    "pycharm": {
     "name": "#%%\n"
    }
   },
   "outputs": [],
   "source": [
    "num_modes = 1\n",
    "# The number of Fock basis we want to use to represent the system.\n",
    "num_basis = 3\n",
    "\n",
    "dev = qml.device(\"strawberryfields.fock\", wires=num_modes, cutoff_dim=num_basis) # select a device"
   ]
  },
  {
   "cell_type": "code",
   "execution_count": 6,
   "id": "0b5a8c30",
   "metadata": {
    "pycharm": {
     "name": "#%%\n"
    }
   },
   "outputs": [],
   "source": [
    "@qml.qnode(dev,  diff_method='finite-diff')\n",
    "def quantum_nn(inputs, var):\n",
    "    #Embedding of classical data into quantum feature space by using the displacement gate.\n",
    "    qml.Displacement(inputs[0], inputs[1], wires=0)\n",
    "    # Define the quantum layers.\n",
    "    for v in var:\n",
    "        q_layer(v)\n",
    "    return qml.probs([0])"
   ]
  },
  {
   "cell_type": "code",
   "execution_count": 7,
   "id": "45d0755f",
   "metadata": {
    "pycharm": {
     "name": "#%%\n"
    }
   },
   "outputs": [
    {
     "name": "stdout",
     "output_type": "stream",
     "text": [
      "Shape of weights array is (25, 5)\n"
     ]
    },
    {
     "name": "stderr",
     "output_type": "stream",
     "text": [
      "2022-06-29 18:09:18.607511: W tensorflow/stream_executor/platform/default/dso_loader.cc:64] Could not load dynamic library 'libcuda.so.1'; dlerror: libcuda.so.1: cannot open shared object file: No such file or directory\n",
      "2022-06-29 18:09:18.607547: W tensorflow/stream_executor/cuda/cuda_driver.cc:269] failed call to cuInit: UNKNOWN ERROR (303)\n",
      "2022-06-29 18:09:18.607589: I tensorflow/stream_executor/cuda/cuda_diagnostics.cc:156] kernel driver does not appear to be running on this host (BartuDesktop): /proc/driver/nvidia/version does not exist\n",
      "2022-06-29 18:09:18.608012: I tensorflow/core/platform/cpu_feature_guard.cc:193] This TensorFlow binary is optimized with oneAPI Deep Neural Network Library (oneDNN) to use the following CPU instructions in performance-critical operations:  AVX2 FMA\n",
      "To enable them in other operations, rebuild TensorFlow with the appropriate compiler flags.\n"
     ]
    }
   ],
   "source": [
    "# ===================================================================================\n",
    "#                             Hybrid Model\n",
    "# ===================================================================================\n",
    "\n",
    "\"\"\"\n",
    "Add the quantum layer to the classical to create a hybrid model\n",
    "    1. initialize weights for quantum layers\n",
    "    2. create a dictionary of weight shape to pass as one of the variables to covert to keras layer\n",
    "    3. convert the quantum layer to a Keras layer\n",
    "    4. add to the classical sequential model\n",
    "\"\"\"\n",
    "\n",
    "num_layers = 25\n",
    "num_modes = 1\n",
    "\n",
    "weights = init_weights(num_layers, num_modes, active_sd, passive_sd)\n",
    "shape_tup = weights.shape\n",
    "weight_shapes = {'var': shape_tup}\n",
    "qlayer = qml.qnn.KerasLayer(quantum_nn, weight_shapes, output_dim=3)"
   ]
  },
  {
   "cell_type": "code",
   "execution_count": 8,
   "id": "d503b101",
   "metadata": {
    "pycharm": {
     "name": "#%%\n"
    }
   },
   "outputs": [],
   "source": [
    "class HybridAutoencoder(Model):\n",
    "  def __init__(self):\n",
    "    super(HybridAutoencoder, self).__init__()\n",
    "    self.encoder = tf.keras.Sequential([\n",
    "      layers.Dense(3, activation =\"elu\"),\n",
    "      layers.Dense(5, activation=\"elu\"),\n",
    "      layers.Dense(5, activation=\"elu\"),\n",
    "      layers.Dense(4, activation=\"elu\"),\n",
    "      layers.Dense(3, activation=\"elu\"),\n",
    "      layers.Dense(5, activation=\"elu\")])\n",
    "\n",
    "    self.decoder = tf.keras.models.Sequential([\n",
    "        qlayer])\n",
    "\n",
    "  def call(self, x):\n",
    "    encoded = self.encoder(x)\n",
    "    decoded = self.decoder(encoded)\n",
    "    return decoded\n",
    "\n",
    "hybrid_autoencoder = HybridAutoencoder()   "
   ]
  },
  {
   "cell_type": "code",
   "execution_count": 9,
   "id": "7ee94d5a",
   "metadata": {
    "pycharm": {
     "name": "#%%\n"
    }
   },
   "outputs": [],
   "source": [
    "opt = Adam(learning_rate = 0.05)\n",
    "hybrid_autoencoder.compile(opt, loss='MSE', metrics = ['accuracy'])"
   ]
  },
  {
   "cell_type": "code",
   "execution_count": 10,
   "id": "042296e2",
   "metadata": {
    "pycharm": {
     "name": "#%%\n"
    }
   },
   "outputs": [
    {
     "name": "stdout",
     "output_type": "stream",
     "text": [
      "Epoch 1/50\n",
      "1/1 [==============================] - 4s 4s/step - loss: 0.3168 - accuracy: 0.0000e+00\n",
      "Epoch 2/50\n",
      "1/1 [==============================] - 2s 2s/step - loss: 0.3128 - accuracy: 1.0000\n",
      "Epoch 3/50\n",
      "1/1 [==============================] - 2s 2s/step - loss: 0.2645 - accuracy: 1.0000\n",
      "Epoch 4/50\n",
      "1/1 [==============================] - 2s 2s/step - loss: 0.1834 - accuracy: 1.0000\n",
      "Epoch 5/50\n",
      "1/1 [==============================] - 2s 2s/step - loss: 0.1191 - accuracy: 1.0000\n",
      "Epoch 6/50\n",
      "1/1 [==============================] - 2s 2s/step - loss: 0.0763 - accuracy: 1.0000\n",
      "Epoch 7/50\n",
      "1/1 [==============================] - 2s 2s/step - loss: 0.0534 - accuracy: 1.0000\n",
      "Epoch 8/50\n",
      "1/1 [==============================] - 2s 2s/step - loss: 0.0456 - accuracy: 1.0000\n",
      "Epoch 9/50\n",
      "1/1 [==============================] - 2s 2s/step - loss: 0.0418 - accuracy: 1.0000\n",
      "Epoch 10/50\n",
      "1/1 [==============================] - 2s 2s/step - loss: 0.0257 - accuracy: 1.0000\n",
      "Epoch 11/50\n",
      "1/1 [==============================] - 2s 2s/step - loss: 0.0161 - accuracy: 1.0000\n",
      "Epoch 12/50\n",
      "1/1 [==============================] - 2s 2s/step - loss: 0.0130 - accuracy: 1.0000\n",
      "Epoch 13/50\n",
      "1/1 [==============================] - 2s 2s/step - loss: 0.0134 - accuracy: 1.0000\n",
      "Epoch 14/50\n",
      "1/1 [==============================] - 2s 2s/step - loss: 0.0101 - accuracy: 1.0000\n",
      "Epoch 15/50\n",
      "1/1 [==============================] - 2s 2s/step - loss: 0.0074 - accuracy: 1.0000\n",
      "Epoch 16/50\n",
      "1/1 [==============================] - 2s 2s/step - loss: 0.0063 - accuracy: 1.0000\n",
      "Epoch 17/50\n",
      "1/1 [==============================] - 2s 2s/step - loss: 0.0063 - accuracy: 1.0000\n",
      "Epoch 18/50\n",
      "1/1 [==============================] - 2s 2s/step - loss: 0.0063 - accuracy: 1.0000\n",
      "Epoch 19/50\n",
      "1/1 [==============================] - 2s 2s/step - loss: 0.0061 - accuracy: 1.0000\n",
      "Epoch 20/50\n",
      "1/1 [==============================] - 2s 2s/step - loss: 0.0059 - accuracy: 1.0000\n",
      "Epoch 21/50\n",
      "1/1 [==============================] - 2s 2s/step - loss: 0.0051 - accuracy: 1.0000\n",
      "Epoch 22/50\n",
      "1/1 [==============================] - 2s 2s/step - loss: 0.0041 - accuracy: 1.0000\n",
      "Epoch 23/50\n",
      "1/1 [==============================] - 2s 2s/step - loss: 0.0034 - accuracy: 1.0000\n",
      "Epoch 24/50\n",
      "1/1 [==============================] - 2s 2s/step - loss: 0.0030 - accuracy: 1.0000\n",
      "Epoch 25/50\n",
      "1/1 [==============================] - 2s 2s/step - loss: 0.0027 - accuracy: 1.0000\n",
      "Epoch 26/50\n",
      "1/1 [==============================] - 2s 2s/step - loss: 0.0024 - accuracy: 1.0000\n",
      "Epoch 27/50\n",
      "1/1 [==============================] - 2s 2s/step - loss: 0.0021 - accuracy: 1.0000\n",
      "Epoch 28/50\n",
      "1/1 [==============================] - 2s 2s/step - loss: 0.0017 - accuracy: 1.0000\n",
      "Epoch 29/50\n",
      "1/1 [==============================] - 2s 2s/step - loss: 0.0014 - accuracy: 1.0000\n",
      "Epoch 30/50\n",
      "1/1 [==============================] - 2s 2s/step - loss: 0.0012 - accuracy: 1.0000\n",
      "Epoch 31/50\n",
      "1/1 [==============================] - 2s 2s/step - loss: 0.0011 - accuracy: 1.0000\n",
      "Epoch 32/50\n",
      "1/1 [==============================] - 2s 2s/step - loss: 0.0011 - accuracy: 1.0000\n",
      "Epoch 33/50\n",
      "1/1 [==============================] - 2s 2s/step - loss: 0.0010 - accuracy: 1.0000\n",
      "Epoch 34/50\n",
      "1/1 [==============================] - 2s 2s/step - loss: 9.2342e-04 - accuracy: 1.0000\n",
      "Epoch 35/50\n",
      "1/1 [==============================] - 2s 2s/step - loss: 7.9912e-04 - accuracy: 1.0000\n",
      "Epoch 36/50\n",
      "1/1 [==============================] - 2s 2s/step - loss: 6.8115e-04 - accuracy: 1.0000\n",
      "Epoch 37/50\n",
      "1/1 [==============================] - 2s 2s/step - loss: 5.9481e-04 - accuracy: 1.0000\n",
      "Epoch 38/50\n",
      "1/1 [==============================] - 2s 2s/step - loss: 5.4252e-04 - accuracy: 1.0000\n",
      "Epoch 39/50\n",
      "1/1 [==============================] - 2s 2s/step - loss: 5.1274e-04 - accuracy: 1.0000\n",
      "Epoch 40/50\n",
      "1/1 [==============================] - 2s 2s/step - loss: 4.8862e-04 - accuracy: 1.0000\n",
      "Epoch 41/50\n",
      "1/1 [==============================] - 2s 2s/step - loss: 4.5664e-04 - accuracy: 1.0000\n",
      "Epoch 42/50\n",
      "1/1 [==============================] - 2s 2s/step - loss: 4.1423e-04 - accuracy: 1.0000\n",
      "Epoch 43/50\n",
      "1/1 [==============================] - 2s 2s/step - loss: 3.6850e-04 - accuracy: 1.0000\n",
      "Epoch 44/50\n",
      "1/1 [==============================] - 2s 2s/step - loss: 3.2796e-04 - accuracy: 1.0000\n",
      "Epoch 45/50\n",
      "1/1 [==============================] - 2s 2s/step - loss: 2.9683e-04 - accuracy: 1.0000\n",
      "Epoch 46/50\n",
      "1/1 [==============================] - 2s 2s/step - loss: 2.7494e-04 - accuracy: 1.0000\n",
      "Epoch 47/50\n",
      "1/1 [==============================] - 2s 2s/step - loss: 2.5969e-04 - accuracy: 1.0000\n",
      "Epoch 48/50\n",
      "1/1 [==============================] - 2s 2s/step - loss: 2.4768e-04 - accuracy: 1.0000\n",
      "Epoch 49/50\n",
      "1/1 [==============================] - 2s 2s/step - loss: 2.3580e-04 - accuracy: 1.0000\n",
      "Epoch 50/50\n",
      "1/1 [==============================] - 2s 2s/step - loss: 2.2206e-04 - accuracy: 1.0000\n"
     ]
    }
   ],
   "source": [
    "history = hybrid_autoencoder.fit(x_train, x_train,\n",
    "          epochs=50,\n",
    "          batch_size=12,\n",
    "          shuffle=True)"
   ]
  },
  {
   "cell_type": "code",
   "execution_count": 14,
   "id": "88439ca3",
   "metadata": {
    "pycharm": {
     "name": "#%%\n"
    }
   },
   "outputs": [
    {
     "data": {
      "image/png": "[encoded data removed]",
      "text/plain": [
       "<Figure size 1200x600 with 1 Axes>"
      ]
     },
     "metadata": {
      "needs_background": "light"
     },
     "output_type": "display_data"
    }
   ],
   "source": [
    "from matplotlib.pyplot import figure\n",
    "\n",
    "fig, ax = plt.subplots(figsize=(12, 6), dpi = 100)\n",
    "\n",
    "# Set tick font size\n",
    "for label in (ax.get_xticklabels() + ax.get_yticklabels()):\n",
    "    label.set_fontsize(16)\n",
    "\n",
    "plt.plot(history.history[\"loss\"], label=\"Training Loss\", linewidth = 3)\n",
    "plt.ylabel(\"Training Loss\", fontsize = '20')\n",
    "ax.yaxis.set_ticks(np.arange(0, 1, 0.4))\n",
    "plt.xlabel(\"Epoch\", fontsize = '20')\n",
    "ax.xaxis.set_ticks(np.arange(0, 50, 40))\n",
    "plt.title('Finite Diffderence Gradient With MSE', fontsize = '24')\n",
    "plt.legend()\n",
    "\n",
    "plt.savefig('fdmse_loss.png')"
   ]
  },
  {
   "cell_type": "markdown",
   "id": "4cd0d7fc",
   "metadata": {},
   "source": [
    "### Obtain the target and learnt states from the quantum decoder."
   ]
  },
  {
   "cell_type": "code",
   "execution_count": 12,
   "id": "b3b4e7b8",
   "metadata": {
    "pycharm": {
     "name": "#%%\n"
    }
   },
   "outputs": [],
   "source": [
    "encoded_data = hybrid_autoencoder.encoder(x_train).numpy()\n",
    "decoded_data = hybrid_autoencoder.decoder(encoded_data).numpy()"
   ]
  },
  {
   "cell_type": "code",
   "execution_count": 13,
   "id": "ee9a3974",
   "metadata": {
    "pycharm": {
     "name": "#%%\n"
    }
   },
   "outputs": [
    {
     "name": "stdout",
     "output_type": "stream",
     "text": [
      "(3,)\n",
      "(3,)\n"
     ]
    },
    {
     "ename": "IndexError",
     "evalue": "index 1 is out of bounds for axis 0 with size 1",
     "output_type": "error",
     "traceback": [
      "\u001b[0;31m---------------------------------------------------------------------------\u001b[0m",
      "\u001b[0;31mIndexError\u001b[0m                                Traceback (most recent call last)",
      "Input \u001b[0;32mIn [13]\u001b[0m, in \u001b[0;36m<cell line: 3>\u001b[0;34m()\u001b[0m\n\u001b[1;32m      1\u001b[0m \u001b[38;5;28mprint\u001b[39m(np\u001b[38;5;241m.\u001b[39mshape(decoded_data[\u001b[38;5;241m0\u001b[39m]))\n\u001b[1;32m      2\u001b[0m \u001b[38;5;28mprint\u001b[39m(np\u001b[38;5;241m.\u001b[39mshape(x_train[\u001b[38;5;241m0\u001b[39m]))\n\u001b[0;32m----> 3\u001b[0m input_data \u001b[38;5;241m=\u001b[39m \u001b[43mx_train\u001b[49m\u001b[43m[\u001b[49m\u001b[38;5;241;43m1\u001b[39;49m\u001b[43m]\u001b[49m\n\u001b[1;32m      4\u001b[0m output_data \u001b[38;5;241m=\u001b[39m decoded_data[\u001b[38;5;241m1\u001b[39m]\n\u001b[1;32m      5\u001b[0m plt\u001b[38;5;241m.\u001b[39mplot(input_data, \u001b[38;5;124m'\u001b[39m\u001b[38;5;124mb\u001b[39m\u001b[38;5;124m'\u001b[39m)\n",
      "File \u001b[0;32m~/miniconda3/envs/qml/lib/python3.10/site-packages/pennylane/numpy/tensor.py:184\u001b[0m, in \u001b[0;36mtensor.__getitem__\u001b[0;34m(self, *args, **kwargs)\u001b[0m\n\u001b[1;32m    183\u001b[0m \u001b[38;5;28;01mdef\u001b[39;00m \u001b[38;5;21m__getitem__\u001b[39m(\u001b[38;5;28mself\u001b[39m, \u001b[38;5;241m*\u001b[39margs, \u001b[38;5;241m*\u001b[39m\u001b[38;5;241m*\u001b[39mkwargs):\n\u001b[0;32m--> 184\u001b[0m     item \u001b[38;5;241m=\u001b[39m \u001b[38;5;28;43msuper\u001b[39;49m\u001b[43m(\u001b[49m\u001b[43m)\u001b[49m\u001b[38;5;241;43m.\u001b[39;49m\u001b[38;5;21;43m__getitem__\u001b[39;49m\u001b[43m(\u001b[49m\u001b[38;5;241;43m*\u001b[39;49m\u001b[43margs\u001b[49m\u001b[43m,\u001b[49m\u001b[43m \u001b[49m\u001b[38;5;241;43m*\u001b[39;49m\u001b[38;5;241;43m*\u001b[39;49m\u001b[43mkwargs\u001b[49m\u001b[43m)\u001b[49m\n\u001b[1;32m    186\u001b[0m     \u001b[38;5;28;01mif\u001b[39;00m \u001b[38;5;129;01mnot\u001b[39;00m \u001b[38;5;28misinstance\u001b[39m(item, tensor):\n\u001b[1;32m    187\u001b[0m         item \u001b[38;5;241m=\u001b[39m tensor(item, requires_grad\u001b[38;5;241m=\u001b[39m\u001b[38;5;28mself\u001b[39m\u001b[38;5;241m.\u001b[39mrequires_grad)\n",
      "\u001b[0;31mIndexError\u001b[0m: index 1 is out of bounds for axis 0 with size 1"
     ]
    }
   ],
   "source": [
    "print(np.shape(decoded_data[0]))\n",
    "print(np.shape(x_train[0]))\n",
    "input_data = x_train[1]\n",
    "output_data = decoded_data[1]\n",
    "plt.plot(input_data, 'b')\n",
    "plt.plot(output_data, 'r')\n",
    "plt.fill_between(np.arange(np.shape(output_data)[0]), output_data, input_data, color='lightcoral')\n",
    "plt.legend(labels=[\"Input\", \"Reconstruction\", \"Error\"])\n",
    "plt.show()"
   ]
  },
  {
   "cell_type": "code",
   "execution_count": null,
   "id": "ecb65d43",
   "metadata": {
    "pycharm": {
     "name": "#%%\n"
    }
   },
   "outputs": [],
   "source": []
  }
 ],
 "metadata": {
  "kernelspec": {
   "display_name": "Python 3 (ipykernel)",
   "language": "python",
   "name": "python3"
  },
  "language_info": {
   "codemirror_mode": {
    "name": "ipython",
    "version": 3
   },
   "file_extension": ".py",
   "mimetype": "text/x-python",
   "name": "python",
   "nbconvert_exporter": "python",
   "pygments_lexer": "ipython3",
   "version": "3.10.4"
  }
 },
 "nbformat": 4,
 "nbformat_minor": 5
}
