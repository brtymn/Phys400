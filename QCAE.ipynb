{
 "cells": [
  {
   "cell_type": "code",
   "execution_count": 1,
   "id": "21ba08cc",
   "metadata": {
    "pycharm": {
     "name": "#%%\n"
    }
   },
   "outputs": [
    {
     "name": "stderr",
     "output_type": "stream",
     "text": [
      "2022-06-27 17:37:08.230006: W tensorflow/stream_executor/platform/default/dso_loader.cc:64] Could not load dynamic library 'libcudart.so.11.0'; dlerror: libcudart.so.11.0: cannot open shared object file: No such file or directory\n",
      "2022-06-27 17:37:08.230030: I tensorflow/stream_executor/cuda/cudart_stub.cc:29] Ignore above cudart dlerror if you do not have a GPU set up on your machine.\n"
     ]
    },
    {
     "name": "stdout",
     "output_type": "stream",
     "text": [
      "Name: PennyLane\n",
      "Version: 0.24.0\n",
      "Summary: PennyLane is a Python quantum machine learning library by Xanadu Inc.\n",
      "Home-page: https://github.com/XanaduAI/pennylane\n",
      "Author: \n",
      "Author-email: \n",
      "License: Apache License 2.0\n",
      "Location: /home/bartu/miniconda3/envs/qml/lib/python3.10/site-packages\n",
      "Requires: networkx, numpy, cachetools, pennylane-lightning, scipy, semantic-version, autoray, autograd, toml, appdirs, retworkx\n",
      "Required-by: PennyLane-SF, PennyLane-Lightning\n",
      "\n",
      "Platform info:           Linux-5.4.0-121-generic-x86_64-with-glibc2.31\n",
      "Python version:          3.10.4\n",
      "Numpy version:           1.22.4\n",
      "Scipy version:           1.8.1\n",
      "Installed devices:\n",
      "- lightning.qubit (PennyLane-Lightning-0.24.0)\n",
      "- default.gaussian (PennyLane-0.24.0)\n",
      "- default.mixed (PennyLane-0.24.0)\n",
      "- default.qubit (PennyLane-0.24.0)\n",
      "- default.qubit.autograd (PennyLane-0.24.0)\n",
      "- default.qubit.jax (PennyLane-0.24.0)\n",
      "- default.qubit.tf (PennyLane-0.24.0)\n",
      "- default.qubit.torch (PennyLane-0.24.0)\n",
      "- strawberryfields.fock (PennyLane-SF-0.20.1)\n",
      "- strawberryfields.gaussian (PennyLane-SF-0.20.1)\n",
      "- strawberryfields.gbs (PennyLane-SF-0.20.1)\n",
      "- strawberryfields.remote (PennyLane-SF-0.20.1)\n",
      "- strawberryfields.tf (PennyLane-SF-0.20.1)\n"
     ]
    }
   ],
   "source": [
    "from tensorflow.keras.models import Model\n",
    "import tensorflow as tf\n",
    "from tensorflow.keras import layers, losses\n",
    "\n",
    "\n",
    "from keras.models import Sequential\n",
    "from keras.layers import Dense\n",
    "from keras.utils.vis_utils import plot_model\n",
    "from tensorflow.keras.optimizers import Adam\n",
    "from keras.backend import set_floatx\n",
    "\n",
    "import pennylane as qml\n",
    "from pennylane.optimize import AdamOptimizer\n",
    "qml.about()\n",
    "\n",
    "from pennylane import numpy as np\n",
    "import matplotlib.pyplot as plt"
   ]
  },
  {
   "cell_type": "code",
   "execution_count": 2,
   "id": "fbfe1d24",
   "metadata": {
    "pycharm": {
     "name": "#%%\n"
    }
   },
   "outputs": [
    {
     "name": "stdout",
     "output_type": "stream",
     "text": [
      "Size of training data: 600\n",
      "Size of test data: 150\n"
     ]
    }
   ],
   "source": [
    "\"\"\"\n",
    "Generate data for the hybrid autoencoder to use.\n",
    "\"\"\"\n",
    "# To avoid the InvalidArgumentError: cannot compute MatMul as input #0(zero-based) was expected to be a float tensor\n",
    "set_floatx('float64')\n",
    "\n",
    "# Number of training data.\n",
    "num_train = 200\n",
    "# Number of test data.\n",
    "num_test = 50\n",
    "# Size of the autoencoder input.\n",
    "len_vector = 3\n",
    "\n",
    "# Seed definition for consistent results.\n",
    "np.random.seed(1)\n",
    "# Training data generation.\n",
    "x_train = np.array(np.random.rand(num_train, len_vector), requires_grad = False)\n",
    "# Test data generation.\n",
    "x_test = np.random.rand(num_test, len_vector)\n",
    "\n",
    "# Print the size of generated data.\n",
    "print(\"Size of training data: \" + str(np.size(x_train)))\n",
    "print(\"Size of test data: \" + str(np.size(x_test)))"
   ]
  },
  {
   "cell_type": "code",
   "execution_count": 3,
   "id": "d1e075f2",
   "metadata": {
    "pycharm": {
     "name": "#%%\n"
    }
   },
   "outputs": [],
   "source": [
    "# Standard deviation parameter definitions.\n",
    "active_sd = 0.0001\n",
    "passive_sd = 0.1\n",
    "\n",
    "def init_weights(layers, modes, active_sd, passive_sd):\n",
    "    \n",
    "    r1_weights = tf.random.normal(shape=[layers, modes], stddev=passive_sd)\n",
    "    s_weights = tf.random.normal(shape=[layers, modes], stddev=active_sd)\n",
    "    r2_weights = tf.random.normal(shape=[layers, modes], stddev=passive_sd)\n",
    "    dr_weights = tf.random.normal(shape=[layers, modes], stddev=active_sd)\n",
    "    k_weights = tf.random.normal(shape=[layers, modes], stddev=active_sd)\n",
    "\n",
    "    weights = tf.concat([r1_weights, s_weights, r2_weights, dr_weights, k_weights], axis=1)\n",
    "    weights = tf.Variable(weights)\n",
    "    \n",
    "    print(\"Shape of weights array is \" + str(weights.shape))\n",
    "\n",
    "    return weights"
   ]
  },
  {
   "cell_type": "code",
   "execution_count": 4,
   "id": "af565811",
   "metadata": {
    "pycharm": {
     "name": "#%%\n"
    }
   },
   "outputs": [],
   "source": [
    "# Construct a quantum layer function with initialized weights as variables.\n",
    "\n",
    "def q_layer(v):\n",
    "    qml.Rotation(v[0], wires=0)\n",
    "    qml.Squeezing(v[1], 0.0, wires=0)\n",
    "    qml.Rotation(v[2], wires=0)\n",
    "    qml.Displacement(v[3], 0.0, wires=0)\n",
    "    qml.Kerr(v[4], wires=0)"
   ]
  },
  {
   "cell_type": "code",
   "execution_count": 5,
   "id": "b4db3725",
   "metadata": {
    "pycharm": {
     "name": "#%%\n"
    }
   },
   "outputs": [],
   "source": [
    "num_modes = 1\n",
    "# The number of Fock basis we want to use to represent the system.\n",
    "num_basis = 3\n",
    "\n",
    "dev = qml.device(\"strawberryfields.fock\", wires=num_modes, cutoff_dim=num_basis) # select a device"
   ]
  },
  {
   "cell_type": "code",
   "execution_count": 6,
   "id": "0b5a8c30",
   "metadata": {
    "pycharm": {
     "name": "#%%\n"
    }
   },
   "outputs": [],
   "source": [
    "@qml.qnode(dev,  diff_method='finite-diff')\n",
    "def quantum_nn(inputs, var):\n",
    "    #Embedding of classical data into quantum feature space by using the displacement gate.\n",
    "    qml.Displacement(inputs[0], inputs[1], wires=0)\n",
    "    # Define the quantum layers.\n",
    "    for v in var:\n",
    "        q_layer(v)\n",
    "    return qml.probs([0])"
   ]
  },
  {
   "cell_type": "code",
   "execution_count": 7,
   "id": "45d0755f",
   "metadata": {
    "pycharm": {
     "name": "#%%\n"
    }
   },
   "outputs": [
    {
     "name": "stdout",
     "output_type": "stream",
     "text": [
      "Shape of weights array is (25, 5)\n"
     ]
    },
    {
     "name": "stderr",
     "output_type": "stream",
     "text": [
      "2022-06-27 17:37:12.491181: W tensorflow/stream_executor/platform/default/dso_loader.cc:64] Could not load dynamic library 'libcuda.so.1'; dlerror: libcuda.so.1: cannot open shared object file: No such file or directory\n",
      "2022-06-27 17:37:12.491207: W tensorflow/stream_executor/cuda/cuda_driver.cc:269] failed call to cuInit: UNKNOWN ERROR (303)\n",
      "2022-06-27 17:37:12.491226: I tensorflow/stream_executor/cuda/cuda_diagnostics.cc:156] kernel driver does not appear to be running on this host (BartuDesktop): /proc/driver/nvidia/version does not exist\n",
      "2022-06-27 17:37:12.491541: I tensorflow/core/platform/cpu_feature_guard.cc:193] This TensorFlow binary is optimized with oneAPI Deep Neural Network Library (oneDNN) to use the following CPU instructions in performance-critical operations:  AVX2 FMA\n",
      "To enable them in other operations, rebuild TensorFlow with the appropriate compiler flags.\n"
     ]
    }
   ],
   "source": [
    "# ===================================================================================\n",
    "#                             Hybrid Model\n",
    "# ===================================================================================\n",
    "\n",
    "\"\"\"\n",
    "Add the quantum layer to the classical to create a hybrid model\n",
    "    1. initialize weights for quantum layers\n",
    "    2. create a dictionary of weight shape to pass as one of the variables to covert to keras layer\n",
    "    3. convert the quantum layer to a Keras layer\n",
    "    4. add to the classical sequential model\n",
    "\"\"\"\n",
    "\n",
    "num_layers = 25\n",
    "num_modes = 1\n",
    "\n",
    "weights = init_weights(num_layers, num_modes, active_sd, passive_sd)\n",
    "shape_tup = weights.shape\n",
    "weight_shapes = {'var': shape_tup}\n",
    "qlayer = qml.qnn.KerasLayer(quantum_nn, weight_shapes, output_dim=3)"
   ]
  },
  {
   "cell_type": "code",
   "execution_count": 8,
   "id": "d503b101",
   "metadata": {
    "pycharm": {
     "name": "#%%\n"
    }
   },
   "outputs": [],
   "source": [
    "class HybridAutoencoder(Model):\n",
    "  def __init__(self):\n",
    "    super(HybridAutoencoder, self).__init__()\n",
    "    self.encoder = tf.keras.Sequential([\n",
    "      layers.Dense(5, input_shape=(3,), activation =\"elu\"),\n",
    "      layers.Dense(5, activation=\"elu\"),\n",
    "      layers.Dense(5, activation=\"elu\"),\n",
    "      layers.Dense(5, activation=\"elu\"),\n",
    "      layers.Dense(5, activation=\"elu\"),\n",
    "      layers.Dense(5, activation=\"elu\")])\n",
    "\n",
    "    self.decoder = tf.keras.models.Sequential([\n",
    "        qlayer])\n",
    "\n",
    "  def call(self, x):\n",
    "    encoded = self.encoder(x)\n",
    "    decoded = self.decoder(encoded)\n",
    "    return decoded\n",
    "\n",
    "hybrid_autoencoder = HybridAutoencoder()   "
   ]
  },
  {
   "cell_type": "code",
   "execution_count": 9,
   "id": "7ee94d5a",
   "metadata": {
    "pycharm": {
     "name": "#%%\n"
    }
   },
   "outputs": [],
   "source": [
    "opt = Adam(learning_rate = 0.01)\n",
    "hybrid_autoencoder.compile(opt, loss='MSE', metrics = ['accuracy'])"
   ]
  },
  {
   "cell_type": "code",
   "execution_count": 10,
   "id": "042296e2",
   "metadata": {
    "pycharm": {
     "name": "#%%\n"
    }
   },
   "outputs": [
    {
     "name": "stdout",
     "output_type": "stream",
     "text": [
      "Epoch 1/10\n",
      "17/17 [==============================] - 317s 19s/step - loss: 0.1762 - accuracy: 0.2950 - val_loss: 0.1367 - val_accuracy: 0.4400\n",
      "Epoch 2/10\n",
      "17/17 [==============================] - 291s 17s/step - loss: 0.1239 - accuracy: 0.5500 - val_loss: 0.1166 - val_accuracy: 0.5800\n",
      "Epoch 3/10\n",
      "17/17 [==============================] - 288s 17s/step - loss: 0.1102 - accuracy: 0.5750 - val_loss: 0.1083 - val_accuracy: 0.6200\n",
      "Epoch 4/10\n",
      "17/17 [==============================] - 285s 17s/step - loss: 0.1042 - accuracy: 0.6600 - val_loss: 0.0997 - val_accuracy: 0.6600\n",
      "Epoch 5/10\n",
      "17/17 [==============================] - 287s 17s/step - loss: 0.1006 - accuracy: 0.6200 - val_loss: 0.0968 - val_accuracy: 0.6800\n",
      "Epoch 6/10\n",
      "17/17 [==============================] - 286s 17s/step - loss: 0.0984 - accuracy: 0.6650 - val_loss: 0.0937 - val_accuracy: 0.7600\n",
      "Epoch 7/10\n",
      "17/17 [==============================] - 286s 17s/step - loss: 0.0968 - accuracy: 0.6400 - val_loss: 0.0920 - val_accuracy: 0.7400\n",
      "Epoch 8/10\n",
      "17/17 [==============================] - 286s 17s/step - loss: 0.0950 - accuracy: 0.6900 - val_loss: 0.0880 - val_accuracy: 0.7400\n",
      "Epoch 9/10\n",
      "17/17 [==============================] - 285s 17s/step - loss: 0.0937 - accuracy: 0.7600 - val_loss: 0.0852 - val_accuracy: 0.8000\n",
      "Epoch 10/10\n",
      "17/17 [==============================] - 286s 17s/step - loss: 0.0907 - accuracy: 0.7950 - val_loss: 0.0841 - val_accuracy: 0.8600\n"
     ]
    }
   ],
   "source": [
    "history = hybrid_autoencoder.fit(x_train, x_train,\n",
    "          epochs=10,\n",
    "          batch_size=12,\n",
    "          validation_data=(x_test, x_test),\n",
    "          shuffle=True)"
   ]
  },
  {
   "cell_type": "code",
   "execution_count": 11,
   "id": "88439ca3",
   "metadata": {
    "pycharm": {
     "name": "#%%\n"
    }
   },
   "outputs": [
    {
     "data": {
      "text/plain": [
       "<matplotlib.legend.Legend at 0x7f62e83b3d00>"
      ]
     },
     "execution_count": 11,
     "metadata": {},
     "output_type": "execute_result"
    },
    {
     "data": {
      "image/png": "[encoded data removed]",
      "text/plain": [
       "<Figure size 432x288 with 1 Axes>"
      ]
     },
     "metadata": {
      "needs_background": "light"
     },
     "output_type": "display_data"
    }
   ],
   "source": [
    "plt.plot(history.history[\"loss\"], label=\"Training Loss\")\n",
    "plt.plot(history.history[\"val_loss\"], label=\"Validation Loss\")\n",
    "plt.legend()"
   ]
  },
  {
   "cell_type": "code",
   "execution_count": 12,
   "id": "9ade123e",
   "metadata": {
    "pycharm": {
     "name": "#%%\n"
    }
   },
   "outputs": [
    {
     "data": {
      "text/plain": [
       "<matplotlib.legend.Legend at 0x7f6278c1ace0>"
      ]
     },
     "execution_count": 12,
     "metadata": {},
     "output_type": "execute_result"
    },
    {
     "data": {
      "image/png": "[encoded data removed]",
      "text/plain": [
       "<Figure size 432x288 with 1 Axes>"
      ]
     },
     "metadata": {
      "needs_background": "light"
     },
     "output_type": "display_data"
    }
   ],
   "source": [
    "plt.plot(history.history[\"accuracy\"], label=\"Training Accuracy\")\n",
    "plt.plot(history.history[\"val_accuracy\"], label=\"Validation Accuracy\")\n",
    "plt.legend()"
   ]
  },
  {
   "cell_type": "code",
   "execution_count": 13,
   "id": "b3b4e7b8",
   "metadata": {
    "pycharm": {
     "name": "#%%\n"
    }
   },
   "outputs": [],
   "source": [
    "encoded_data = hybrid_autoencoder.encoder(x_train).numpy()\n",
    "decoded_data = hybrid_autoencoder.decoder(encoded_data).numpy()"
   ]
  },
  {
   "cell_type": "code",
   "execution_count": 14,
   "id": "ee9a3974",
   "metadata": {
    "pycharm": {
     "name": "#%%\n"
    }
   },
   "outputs": [
    {
     "name": "stdout",
     "output_type": "stream",
     "text": [
      "(3,)\n",
      "(3,)\n"
     ]
    },
    {
     "data": {
      "image/png": "[encoded data removed]",
      "text/plain": [
       "<Figure size 432x288 with 1 Axes>"
      ]
     },
     "metadata": {
      "needs_background": "light"
     },
     "output_type": "display_data"
    }
   ],
   "source": [
    "print(np.shape(decoded_data[0]))\n",
    "print(np.shape(x_train[0]))\n",
    "input_data = x_train[1]\n",
    "output_data = decoded_data[1]\n",
    "plt.plot(input_data, 'b')\n",
    "plt.plot(output_data, 'r')\n",
    "plt.fill_between(np.arange(np.shape(output_data)[0]), output_data, input_data, color='lightcoral')\n",
    "plt.legend(labels=[\"Input\", \"Reconstruction\", \"Error\"])\n",
    "plt.show()"
   ]
  },
  {
   "cell_type": "code",
   "execution_count": null,
   "id": "ecb65d43",
   "metadata": {
    "pycharm": {
     "name": "#%%\n"
    }
   },
   "outputs": [],
   "source": []
  }
 ],
 "metadata": {
  "kernelspec": {
   "display_name": "Python 3 (ipykernel)",
   "language": "python",
   "name": "python3"
  },
  "language_info": {
   "codemirror_mode": {
    "name": "ipython",
    "version": 3
   },
   "file_extension": ".py",
   "mimetype": "text/x-python",
   "name": "python",
   "nbconvert_exporter": "python",
   "pygments_lexer": "ipython3",
   "version": "3.10.4"
  }
 },
 "nbformat": 4,
 "nbformat_minor": 5
}
